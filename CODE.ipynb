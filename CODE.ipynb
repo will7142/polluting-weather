{
 "cells": [
  {
   "cell_type": "markdown",
   "metadata": {},
   "source": [
    "# Polluting Weather\n",
    "by Will Rosenfeld"
   ]
  },
  {
   "cell_type": "markdown",
   "metadata": {},
   "source": [
    "# Abstract\n",
    "Objective: To understand the role weather plays in driving air quality levels in Los Angeles.\n",
    "\n",
    "Data:\n",
    "    1. EPA Air Quality Index Daily Values Report (2008-2017): \n",
    "        - Location: https://www.epa.gov/outdoor-air-quality-data/air-quality-index-report\n",
    "        - Documentation: https://www.epa.gov/outdoor-air-quality-data/about-air-data-reports#aqidaily\n",
    "    2. NOAA US Daily Weather Data (2010-2017): \n",
    "        - Location: https://www.epa.gov/outdoor-air-quality-data/air-quality-index-daily-values-report\n",
    "        - Documentation: https://www1.ncdc.noaa.gov/pub/data/cdo/documentation/GHCND_documentation.pdf\n",
    "Method:\n",
    "    - Target: Air Quality Index (https://en.wikipedia.org/wiki/Air_quality_index#United_States) will serve as a strong predictor variable\n",
    "    - Predictors: Temp, Precip, Wind, Clouds, etc."
   ]
  },
  {
   "cell_type": "markdown",
   "metadata": {},
   "source": [
    "# Imports"
   ]
  },
  {
   "cell_type": "code",
   "execution_count": 1,
   "metadata": {
    "collapsed": true
   },
   "outputs": [],
   "source": [
    "# General\n",
    "import pandas as pd\n",
    "import numpy as np\n",
    "import math\n",
    "from datetime import datetime\n",
    "from sklearn import metrics\n",
    "# Selection\n",
    "from sklearn.model_selection import TimeSeriesSplit\n",
    "from sklearn.model_selection import cross_val_score\n",
    "from sklearn.preprocessing import StandardScaler\n",
    "from sklearn.model_selection import GridSearchCV\n",
    "from sklearn.model_selection import RandomizedSearchCV\n",
    "from sklearn.pipeline import Pipeline\n",
    "# Models\n",
    "from sklearn.linear_model import LinearRegression\n",
    "from sklearn.linear_model import Ridge\n",
    "from sklearn.linear_model import Lasso\n",
    "from sklearn.tree import DecisionTreeRegressor\n",
    "from sklearn.ensemble import RandomForestRegressor\n",
    "from sklearn.neighbors import KNeighborsRegressor\n",
    "from sklearn.linear_model import LogisticRegression\n",
    "from sklearn.tree import DecisionTreeClassifier\n",
    "# Vizualization\n",
    "import matplotlib.pyplot as plt\n",
    "import seaborn as sns\n",
    "%matplotlib inline\n",
    "pd.options.display.max_rows = 100\n",
    "pd.options.display.max_columns = 100"
   ]
  },
  {
   "cell_type": "code",
   "execution_count": 2,
   "metadata": {
    "collapsed": true
   },
   "outputs": [],
   "source": [
    "# Import EPA Daily Air Quality Index data for Los Angeles\n",
    "pol_path = '/Users/wtrosenfeld/Google Drive/WTR Personal Files/Learning/Post Grad/General Assembly/ds-dc-22/5_final-projects/Polluting Weather/Data/EPA/'\n",
    "la08 = pd.DataFrame.from_csv(pol_path + 'aqidaily2008.csv')\n",
    "la09 = pd.DataFrame.from_csv(pol_path + 'aqidaily2009.csv')\n",
    "la10 = pd.DataFrame.from_csv(pol_path + 'aqidaily2010.csv')\n",
    "la11 = pd.DataFrame.from_csv(pol_path + 'aqidaily2011.csv')\n",
    "la12 = pd.DataFrame.from_csv(pol_path + 'aqidaily2012.csv')\n",
    "la13 = pd.DataFrame.from_csv(pol_path + 'aqidaily2013.csv')\n",
    "la14 = pd.DataFrame.from_csv(pol_path + 'aqidaily2014.csv')\n",
    "la15 = pd.DataFrame.from_csv(pol_path + 'aqidaily2015.csv')\n",
    "la16 = pd.DataFrame.from_csv(pol_path + 'aqidaily2016.csv')\n",
    "la17 = pd.DataFrame.from_csv(pol_path + 'aqidaily2017.csv')\n",
    "#perhaps use instead: pd.read_csv(url, index_col='datetime', parse_dates=True)\n",
    "\n",
    "frames = [la08,la09,la10,la11,la12,la13,la14,la15,la16,la17]\n",
    "pol = pd.concat(frames)"
   ]
  },
  {
   "cell_type": "code",
   "execution_count": 3,
   "metadata": {
    "collapsed": true
   },
   "outputs": [],
   "source": [
    "# Import NOAA Daily Weather data for Los Angeles\n",
    "wea_path = '/Users/wtrosenfeld/Google Drive/WTR Personal Files/Learning/Post Grad/General Assembly/ds-dc-22/5_final-projects/Polluting Weather/Data/NOAA/'\n",
    "wea = pd.DataFrame.from_csv(wea_path + '1106788.csv')"
   ]
  },
  {
   "cell_type": "code",
   "execution_count": 4,
   "metadata": {
    "collapsed": true
   },
   "outputs": [],
   "source": [
    "# Import EPA Historical Next Day AQI Forecasts for Los Angeles\n",
    "pfr_path = '/Users/wtrosenfeld/Google Drive/WTR Personal Files/Learning/Post Grad/General Assembly/ds-dc-22/5_final-projects/Polluting Weather/Data/EPA/'\n",
    "pfr = pd.DataFrame.from_csv(pfr_path + 'aqinextdayforecast2010_2017.csv')"
   ]
  },
  {
   "cell_type": "markdown",
   "metadata": {},
   "source": [
    "# Data Preparation"
   ]
  },
  {
   "cell_type": "code",
   "execution_count": 5,
   "metadata": {},
   "outputs": [
    {
     "name": "stdout",
     "output_type": "stream",
     "text": [
      "(3469, 9)\n"
     ]
    }
   ],
   "source": [
    "# Reformat AQI data\n",
    "pol.reset_index(inplace=True)\n",
    "pol.columns = ['DATE','MAIN_POLLUTANT','AQI','CO','SO2','NO2','OZONE','PM10','PM25']\n",
    "print(pol.shape)"
   ]
  },
  {
   "cell_type": "code",
   "execution_count": 6,
   "metadata": {
    "collapsed": true
   },
   "outputs": [],
   "source": [
    "# Reformat and Filter Weather data\n",
    "wea.reset_index(inplace=True)\n",
    "wea = wea[wea['STATION'] == 'USW00093134']\n",
    "wea['DATE'] = pd.to_datetime(wea['DATE'])"
   ]
  },
  {
   "cell_type": "code",
   "execution_count": 7,
   "metadata": {},
   "outputs": [
    {
     "name": "stdout",
     "output_type": "stream",
     "text": [
      "(2872, 2)\n"
     ]
    }
   ],
   "source": [
    "# Reformat and filter forecast data\n",
    "pfr.reset_index(inplace=True)\n",
    "pfr = pfr[pfr['ForecastPeriod'] == 'Next Day']\n",
    "pfr['DATE'] = pd.to_datetime(pfr['ForecastDate'])\n",
    "pfr = pfr.pivot(index='DATE', columns='Parameter', values='AQI')\n",
    "pfr.reset_index(inplace=True)\n",
    "pfr['AQI_fore'] = pfr[['CO','NO2','OZONE','PM10','PM2.5']].max(axis=1)\n",
    "pfr.drop(['CO','NO2','OZONE','PM10','PM2.5'], axis=1, inplace=True)\n",
    "print(pfr.shape)"
   ]
  },
  {
   "cell_type": "code",
   "execution_count": 8,
   "metadata": {},
   "outputs": [
    {
     "name": "stdout",
     "output_type": "stream",
     "text": [
      "(3469, 66)\n"
     ]
    }
   ],
   "source": [
    "# Join pollution and weather data\n",
    "pw = pd.merge(wea,pol,how='inner',left_on=wea['DATE'],right_on=pol['DATE'])\n",
    "pw[\"DATE\"] = pw['DATE_x']\n",
    "pw.drop(['DATE_x','DATE_y'], axis=1, inplace=True)\n",
    "print(pw.shape)"
   ]
  },
  {
   "cell_type": "code",
   "execution_count": 9,
   "metadata": {},
   "outputs": [
    {
     "name": "stdout",
     "output_type": "stream",
     "text": [
      "(3469, 67)\n"
     ]
    }
   ],
   "source": [
    "# Left join pollution forecast data\n",
    "pw = pd.merge(pw,pfr,how='left', on='DATE')\n",
    "print(pw.shape)"
   ]
  },
  {
   "cell_type": "markdown",
   "metadata": {},
   "source": [
    "# Feature Engineering"
   ]
  },
  {
   "cell_type": "code",
   "execution_count": 10,
   "metadata": {
    "collapsed": true
   },
   "outputs": [],
   "source": [
    "# Check for nulls\n",
    "pw.isnull().sum(); #remove \";\" to see results"
   ]
  },
  {
   "cell_type": "code",
   "execution_count": 11,
   "metadata": {
    "collapsed": true
   },
   "outputs": [],
   "source": [
    "# Date features\n",
    "pw['YEAR'] = pd.DatetimeIndex(pw['DATE']).year\n",
    "pw['DOW'] = pd.DatetimeIndex(pw['DATE']).weekday\n",
    "pw['WEEKDAY'] = pw['DOW'].map({0:1,1:1,2:1,3:1,4:1,5:0,6:0}) #0=monday"
   ]
  },
  {
   "cell_type": "code",
   "execution_count": 12,
   "metadata": {
    "collapsed": true
   },
   "outputs": [],
   "source": [
    "# Weather features\n",
    "\n",
    "#temperature\n",
    "pw['TEMP_avg'] = (pw['TMAX'] + pw['TMIN']) / 2\n",
    "pw['TEMP_rng'] = pw['TMAX']- pw['TMIN']\n",
    "pw.rename(columns={'TMIN':'TEMP_min'}, inplace=True)\n",
    "pw.rename(columns={'TMAX':'TEMP_max'}, inplace=True)\n",
    "#percipitation\n",
    "pw['PRCP_bin'] = np.where(pw['PRCP'] > 0,1,0)\n",
    "#wind\n",
    "pw['WIND_Uwe'] = (-np.sin(np.radians(pw['WDF5'])) * pw['WSF5'])\n",
    "pw['WIND_Vns'] = (np.cos(np.radians(pw['WDF5'])) * pw['WSF5'])\n",
    "pw['WIND_bin'] = np.where(pw['AWND'] > 1,1,0)\n",
    "pw.rename(columns={'AWND':'WIND_avg'}, inplace=True)\n",
    "pw.rename(columns={'WSF5':'WIND_max'}, inplace=True)\n",
    "#NOTE\n",
    "# Weather forecast data would be preferable to weather data due to time consistency issues\n",
    "# Lags were not used as weather forecasts are quite reliable 24 hours in advance\n",
    "# This is dynamic creates a time inconsistency issue that slightly overstates the model's power"
   ]
  },
  {
   "cell_type": "code",
   "execution_count": 13,
   "metadata": {
    "collapsed": true
   },
   "outputs": [],
   "source": [
    "# Pollution features (withheld for weather analysis)\n",
    "pol_lags = ['AQI','CO','NO2','OZONE','PM10','PM25'] #excluding SO2\n",
    "for col in pol_lags:\n",
    "    pw[col+'_lag'] = pw[col].shift(1)\n",
    "pw['AQI_mov'] = pd.Series.ewm(pw['AQI_lag'], span=5).mean()"
   ]
  },
  {
   "cell_type": "code",
   "execution_count": 14,
   "metadata": {},
   "outputs": [
    {
     "data": {
      "text/plain": [
       "(3469, 86)"
      ]
     },
     "execution_count": 14,
     "metadata": {},
     "output_type": "execute_result"
    }
   ],
   "source": [
    "# Seasonality features (withheld for weather analysis)\n",
    "pw['MONTH'] = pd.DatetimeIndex(pw['DATE']).month\n",
    "pw['WEEK'] = pd.DatetimeIndex(pw['DATE']).week\n",
    "pw['WEEK_quad'] = pw['WEEK']**2\n",
    "pw.shape"
   ]
  },
  {
   "cell_type": "markdown",
   "metadata": {},
   "source": [
    "# Feature Metrics & Visualizations"
   ]
  },
  {
   "cell_type": "code",
   "execution_count": 15,
   "metadata": {
    "collapsed": true
   },
   "outputs": [
    {
     "data": {
      "text/html": [
       "<div>\n",
       "<style>\n",
       "    .dataframe thead tr:only-child th {\n",
       "        text-align: right;\n",
       "    }\n",
       "\n",
       "    .dataframe thead th {\n",
       "        text-align: left;\n",
       "    }\n",
       "\n",
       "    .dataframe tbody tr th {\n",
       "        vertical-align: top;\n",
       "    }\n",
       "</style>\n",
       "<table border=\"1\" class=\"dataframe\">\n",
       "  <thead>\n",
       "    <tr style=\"text-align: right;\">\n",
       "      <th></th>\n",
       "      <th>mean</th>\n",
       "      <th>std</th>\n",
       "    </tr>\n",
       "    <tr>\n",
       "      <th>YEAR</th>\n",
       "      <th></th>\n",
       "      <th></th>\n",
       "    </tr>\n",
       "  </thead>\n",
       "  <tbody>\n",
       "    <tr>\n",
       "      <th>2008</th>\n",
       "      <td>95.658470</td>\n",
       "      <td>43.175599</td>\n",
       "    </tr>\n",
       "    <tr>\n",
       "      <th>2009</th>\n",
       "      <td>92.276712</td>\n",
       "      <td>40.896044</td>\n",
       "    </tr>\n",
       "    <tr>\n",
       "      <th>2010</th>\n",
       "      <td>86.509589</td>\n",
       "      <td>33.729337</td>\n",
       "    </tr>\n",
       "    <tr>\n",
       "      <th>2011</th>\n",
       "      <td>92.150685</td>\n",
       "      <td>37.398313</td>\n",
       "    </tr>\n",
       "    <tr>\n",
       "      <th>2012</th>\n",
       "      <td>91.740437</td>\n",
       "      <td>37.168271</td>\n",
       "    </tr>\n",
       "    <tr>\n",
       "      <th>2013</th>\n",
       "      <td>87.375342</td>\n",
       "      <td>33.048482</td>\n",
       "    </tr>\n",
       "    <tr>\n",
       "      <th>2014</th>\n",
       "      <td>89.704110</td>\n",
       "      <td>33.872419</td>\n",
       "    </tr>\n",
       "    <tr>\n",
       "      <th>2015</th>\n",
       "      <td>91.287671</td>\n",
       "      <td>37.299014</td>\n",
       "    </tr>\n",
       "    <tr>\n",
       "      <th>2016</th>\n",
       "      <td>85.387978</td>\n",
       "      <td>35.005475</td>\n",
       "    </tr>\n",
       "    <tr>\n",
       "      <th>2017</th>\n",
       "      <td>80.243094</td>\n",
       "      <td>37.241651</td>\n",
       "    </tr>\n",
       "  </tbody>\n",
       "</table>\n",
       "</div>"
      ],
      "text/plain": [
       "           mean        std\n",
       "YEAR                      \n",
       "2008  95.658470  43.175599\n",
       "2009  92.276712  40.896044\n",
       "2010  86.509589  33.729337\n",
       "2011  92.150685  37.398313\n",
       "2012  91.740437  37.168271\n",
       "2013  87.375342  33.048482\n",
       "2014  89.704110  33.872419\n",
       "2015  91.287671  37.299014\n",
       "2016  85.387978  35.005475\n",
       "2017  80.243094  37.241651"
      ]
     },
     "execution_count": 15,
     "metadata": {},
     "output_type": "execute_result"
    }
   ],
   "source": [
    "# Variance of AQI by YEAR\n",
    "pw.groupby('YEAR').AQI.agg(['mean', 'std'])"
   ]
  },
  {
   "cell_type": "code",
   "execution_count": 16,
   "metadata": {
    "collapsed": true
   },
   "outputs": [
    {
     "data": {
      "text/html": [
       "<div>\n",
       "<style>\n",
       "    .dataframe thead tr:only-child th {\n",
       "        text-align: right;\n",
       "    }\n",
       "\n",
       "    .dataframe thead th {\n",
       "        text-align: left;\n",
       "    }\n",
       "\n",
       "    .dataframe tbody tr th {\n",
       "        vertical-align: top;\n",
       "    }\n",
       "</style>\n",
       "<table border=\"1\" class=\"dataframe\">\n",
       "  <thead>\n",
       "    <tr style=\"text-align: right;\">\n",
       "      <th></th>\n",
       "      <th>mean</th>\n",
       "      <th>std</th>\n",
       "    </tr>\n",
       "    <tr>\n",
       "      <th>MONTH</th>\n",
       "      <th></th>\n",
       "      <th></th>\n",
       "    </tr>\n",
       "  </thead>\n",
       "  <tbody>\n",
       "    <tr>\n",
       "      <th>1</th>\n",
       "      <td>74.103226</td>\n",
       "      <td>23.643023</td>\n",
       "    </tr>\n",
       "    <tr>\n",
       "      <th>2</th>\n",
       "      <td>66.932862</td>\n",
       "      <td>21.872432</td>\n",
       "    </tr>\n",
       "    <tr>\n",
       "      <th>3</th>\n",
       "      <td>69.870968</td>\n",
       "      <td>20.231735</td>\n",
       "    </tr>\n",
       "    <tr>\n",
       "      <th>4</th>\n",
       "      <td>78.510000</td>\n",
       "      <td>25.892947</td>\n",
       "    </tr>\n",
       "    <tr>\n",
       "      <th>5</th>\n",
       "      <td>93.422581</td>\n",
       "      <td>36.736164</td>\n",
       "    </tr>\n",
       "    <tr>\n",
       "      <th>6</th>\n",
       "      <td>122.150000</td>\n",
       "      <td>42.296780</td>\n",
       "    </tr>\n",
       "    <tr>\n",
       "      <th>7</th>\n",
       "      <td>122.960573</td>\n",
       "      <td>37.213682</td>\n",
       "    </tr>\n",
       "    <tr>\n",
       "      <th>8</th>\n",
       "      <td>124.795699</td>\n",
       "      <td>37.891143</td>\n",
       "    </tr>\n",
       "    <tr>\n",
       "      <th>9</th>\n",
       "      <td>104.070370</td>\n",
       "      <td>35.554015</td>\n",
       "    </tr>\n",
       "    <tr>\n",
       "      <th>10</th>\n",
       "      <td>77.541219</td>\n",
       "      <td>24.946077</td>\n",
       "    </tr>\n",
       "    <tr>\n",
       "      <th>11</th>\n",
       "      <td>70.985185</td>\n",
       "      <td>21.147380</td>\n",
       "    </tr>\n",
       "    <tr>\n",
       "      <th>12</th>\n",
       "      <td>73.311828</td>\n",
       "      <td>23.943118</td>\n",
       "    </tr>\n",
       "  </tbody>\n",
       "</table>\n",
       "</div>"
      ],
      "text/plain": [
       "             mean        std\n",
       "MONTH                       \n",
       "1       74.103226  23.643023\n",
       "2       66.932862  21.872432\n",
       "3       69.870968  20.231735\n",
       "4       78.510000  25.892947\n",
       "5       93.422581  36.736164\n",
       "6      122.150000  42.296780\n",
       "7      122.960573  37.213682\n",
       "8      124.795699  37.891143\n",
       "9      104.070370  35.554015\n",
       "10      77.541219  24.946077\n",
       "11      70.985185  21.147380\n",
       "12      73.311828  23.943118"
      ]
     },
     "execution_count": 16,
     "metadata": {},
     "output_type": "execute_result"
    }
   ],
   "source": [
    "# Variance of AQI by YEAR\n",
    "pw.groupby('MONTH').AQI.agg(['mean', 'std'])"
   ]
  },
  {
   "cell_type": "code",
   "execution_count": 17,
   "metadata": {},
   "outputs": [
    {
     "data": {
      "text/plain": [
       "MAIN_POLLUTANT\n",
       "NO2       291\n",
       "Ozone    1607\n",
       "PM10       23\n",
       "PM2.5    1547\n",
       "SO2         1\n",
       "Name: AQI, dtype: int64"
      ]
     },
     "execution_count": 17,
     "metadata": {},
     "output_type": "execute_result"
    }
   ],
   "source": [
    "# Drivers of AQI\n",
    "pw.groupby('MAIN_POLLUTANT').AQI.count()"
   ]
  },
  {
   "cell_type": "markdown",
   "metadata": {},
   "source": [
    "# Feature Selection"
   ]
  },
  {
   "cell_type": "code",
   "execution_count": 18,
   "metadata": {},
   "outputs": [
    {
     "name": "stdout",
     "output_type": "stream",
     "text": [
      "Raw:  (3469, 86)  , Prep:  (3395, 17)\n"
     ]
    }
   ],
   "source": [
    "# Select features\n",
    "tim_cols = ['YEAR','WEEKDAY']\n",
    "wea_cols = ['TEMP_avg','TEMP_rng','PRCP_bin','WIND_avg','WIND_Uwe','WIND_Vns']\n",
    "pol_cols = ['AQI_lag','CO_lag','NO2_lag','OZONE_lag','PM10_lag','PM25_lag']\n",
    "snn_cols = ['WEEK','WEEK_quad']\n",
    "\n",
    "feature_cols = ['AQI'] + pol_cols + snn_cols + tim_cols + wea_cols\n",
    "pwF = pw[feature_cols].dropna()\n",
    "feature_cols = feature_cols[1:]\n",
    "print('Raw: ',pw.shape,' , Prep: ',pwF.shape)"
   ]
  },
  {
   "cell_type": "code",
   "execution_count": 19,
   "metadata": {
    "collapsed": true
   },
   "outputs": [],
   "source": [
    "# Pair plots\n",
    "#sns.pairplot(pwF, x_vars=tim_cols, y_vars='AQI', kind='reg')\n",
    "#sns.pairplot(pwF, x_vars=wea_cols, y_vars='AQI', kind='reg')\n",
    "#sns.pairplot(pwF, x_vars=['TEMP_avg','TEMP_rng'], y_vars='AQI', kind='reg')\n",
    "#sns.pairplot(pwF, x_vars=['PRCP','PRCP_bin'], y_vars='AQI', kind='reg')\n",
    "#sns.pairplot(pwF, x_vars=['WIND_avg','WIND_Uwe','WIND_Vns'], y_vars='AQI', kind='reg')\n",
    "#sns.pairplot(pwF, x_vars=pol_cols, y_vars='AQI', kind='reg')\n",
    "#sns.pairplot(pwF, x_vars=snn_cols, y_vars='AQI', kind='reg');"
   ]
  },
  {
   "cell_type": "code",
   "execution_count": 20,
   "metadata": {},
   "outputs": [
    {
     "data": {
      "text/plain": [
       "<matplotlib.axes._subplots.AxesSubplot at 0x1153ee748>"
      ]
     },
     "execution_count": 20,
     "metadata": {},
     "output_type": "execute_result"
    },
    {
     "data": {
      "image/png": "[encoded data removed]",
      "text/plain": [
       "<matplotlib.figure.Figure at 0x1153d2588>"
      ]
     },
     "metadata": {},
     "output_type": "display_data"
    }
   ],
   "source": [
    "# Heat map\n",
    "sns.heatmap(pwF.corr())"
   ]
  },
  {
   "cell_type": "markdown",
   "metadata": {},
   "source": [
    "# Data Splits"
   ]
  },
  {
   "cell_type": "code",
   "execution_count": null,
   "metadata": {
    "collapsed": true
   },
   "outputs": [],
   "source": [
    "# Subset data into train/test and validate\n",
    "pwVAL = pwF.loc[(pw.index.max() - (364)):,:] #validation\n",
    "pwTT  = pwF.loc[pw.index.max() - (365*9)-1:(pw.index.max() - (365)),:] #train and test\n",
    "pwTT  = pwTT.reset_index(drop=True) #Do not reset VAL index for future joining"
   ]
  },
  {
   "cell_type": "code",
   "execution_count": null,
   "metadata": {
    "collapsed": true
   },
   "outputs": [],
   "source": [
    "# Compare sizes and dates of files\n",
    "print('Pollution:  Shape = ',pol.shape,   ', Min = ',pol.DATE.min(),   ', Max = ',pol.DATE.max())\n",
    "print('Weather:    Shape = ',wea.shape,   ',Min = ',wea.DATE.min(),   ', Max = ',wea.DATE.max())\n",
    "print('Poll Fore:  Shape = ',pfr.shape,   ', Min = ',pfr.DATE.min(),   ', Max = ',pfr.DATE.max())\n",
    "print('Train/Test: Shape = ',pwTT.shape)\n",
    "print('Validation: Shape = ',pwVAL.shape)"
   ]
  },
  {
   "cell_type": "markdown",
   "metadata": {},
   "source": [
    "# Title"
   ]
  },
  {
   "cell_type": "code",
   "execution_count": null,
   "metadata": {
    "collapsed": true
   },
   "outputs": [],
   "source": []
  }
 ],
 "metadata": {
  "kernelspec": {
   "display_name": "Python 3",
   "language": "python",
   "name": "python3"
  },
  "language_info": {
   "codemirror_mode": {
    "name": "ipython",
    "version": 3
   },
   "file_extension": ".py",
   "mimetype": "text/x-python",
   "name": "python",
   "nbconvert_exporter": "python",
   "pygments_lexer": "ipython3",
   "version": "3.6.1"
  }
 },
 "nbformat": 4,
 "nbformat_minor": 2
}
