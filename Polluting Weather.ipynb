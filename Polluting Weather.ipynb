{
 "cells": [
  {
   "cell_type": "markdown",
   "metadata": {},
   "source": [
    "# Polluting Weather\n",
    "by Will Rosenfeld"
   ]
  },
  {
   "cell_type": "markdown",
   "metadata": {},
   "source": [
    "# Abstract\n",
    "Objective: To understand the role weather plays in driving air quality levels in Los Angeles.\n",
    "\n",
    "Data:\n",
    "    1. EPA Air Quality Index Daily Values Report (2008-2017): \n",
    "        - Location: https://www.epa.gov/outdoor-air-quality-data/air-quality-index-report\n",
    "        - Documentation: https://www.epa.gov/outdoor-air-quality-data/about-air-data-reports#aqidaily\n",
    "    2. NOAA US Daily Weather Data (2010-2017): \n",
    "        - Location: https://www.epa.gov/outdoor-air-quality-data/air-quality-index-daily-values-report\n",
    "        - Documentation: https://www1.ncdc.noaa.gov/pub/data/cdo/documentation/GHCND_documentation.pdf\n",
    "Method:\n",
    "    - Target: Air Quality Index (https://en.wikipedia.org/wiki/Air_quality_index#United_States) will serve as a strong predictor variable\n",
    "    - Predictors: Temp, Precip, Wind, Clouds, etc."
   ]
  },
  {
   "cell_type": "markdown",
   "metadata": {},
   "source": [
    "# Imports"
   ]
  },
  {
   "cell_type": "code",
   "execution_count": 1,
   "metadata": {
    "collapsed": true
   },
   "outputs": [],
   "source": [
    "# General\n",
    "import pandas as pd\n",
    "import numpy as np\n",
    "import math\n",
    "from datetime import datetime\n",
    "from sklearn import metrics\n",
    "# Selection\n",
    "from sklearn.model_selection import TimeSeriesSplit\n",
    "from sklearn.model_selection import cross_val_score\n",
    "from sklearn.preprocessing import StandardScaler\n",
    "from sklearn.model_selection import GridSearchCV\n",
    "from sklearn.model_selection import RandomizedSearchCV\n",
    "from sklearn.pipeline import Pipeline\n",
    "# Models\n",
    "from sklearn.linear_model import LinearRegression\n",
    "from sklearn.linear_model import Ridge\n",
    "from sklearn.linear_model import Lasso\n",
    "from sklearn.tree import DecisionTreeRegressor\n",
    "from sklearn.ensemble import RandomForestRegressor\n",
    "from sklearn.neighbors import KNeighborsRegressor\n",
    "from sklearn.linear_model import LogisticRegression\n",
    "from sklearn.tree import DecisionTreeClassifier\n",
    "# Vizualization\n",
    "import matplotlib.pyplot as plt\n",
    "import seaborn as sns\n",
    "%matplotlib inline\n",
    "pd.options.display.max_rows = 100\n",
    "pd.options.display.max_columns = 100"
   ]
  },
  {
   "cell_type": "code",
   "execution_count": 2,
   "metadata": {
    "collapsed": true
   },
   "outputs": [],
   "source": [
    "# Import EPA Daily Air Quality Index data for Los Angeles\n",
    "pol_path = '/Users/wtrosenfeld/Google Drive/WTR Personal Files/Learning/Post Grad/General Assembly/ds-dc-22/5_final-projects/Polluting Weather/Data/EPA/'\n",
    "la08 = pd.DataFrame.from_csv(pol_path + 'aqidaily2008.csv')\n",
    "la09 = pd.DataFrame.from_csv(pol_path + 'aqidaily2009.csv')\n",
    "la10 = pd.DataFrame.from_csv(pol_path + 'aqidaily2010.csv')\n",
    "la11 = pd.DataFrame.from_csv(pol_path + 'aqidaily2011.csv')\n",
    "la12 = pd.DataFrame.from_csv(pol_path + 'aqidaily2012.csv')\n",
    "la13 = pd.DataFrame.from_csv(pol_path + 'aqidaily2013.csv')\n",
    "la14 = pd.DataFrame.from_csv(pol_path + 'aqidaily2014.csv')\n",
    "la15 = pd.DataFrame.from_csv(pol_path + 'aqidaily2015.csv')\n",
    "la16 = pd.DataFrame.from_csv(pol_path + 'aqidaily2016.csv')\n",
    "la17 = pd.DataFrame.from_csv(pol_path + 'aqidaily2017.csv')\n",
    "#perhaps use instead: pd.read_csv(url, index_col='datetime', parse_dates=True)\n",
    "\n",
    "frames = [la08,la09,la10,la11,la12,la13,la14,la15,la16,la17]\n",
    "pol = pd.concat(frames)"
   ]
  },
  {
   "cell_type": "code",
   "execution_count": 3,
   "metadata": {
    "collapsed": true
   },
   "outputs": [],
   "source": [
    "# Import NOAA Daily Weather data for Los Angeles\n",
    "wea_path = '/Users/wtrosenfeld/Google Drive/WTR Personal Files/Learning/Post Grad/General Assembly/ds-dc-22/5_final-projects/Polluting Weather/Data/NOAA/'\n",
    "wea = pd.DataFrame.from_csv(wea_path + '1106788.csv')"
   ]
  },
  {
   "cell_type": "code",
   "execution_count": 4,
   "metadata": {
    "collapsed": true
   },
   "outputs": [],
   "source": [
    "# Import EPA Historical Next Day AQI Forecasts for Los Angeles\n",
    "pfr_path = '/Users/wtrosenfeld/Google Drive/WTR Personal Files/Learning/Post Grad/General Assembly/ds-dc-22/5_final-projects/Polluting Weather/Data/EPA/'\n",
    "pfr = pd.DataFrame.from_csv(pfr_path + 'aqinextdayforecast2010_2017.csv')"
   ]
  },
  {
   "cell_type": "markdown",
   "metadata": {},
   "source": [
    "# Data Preparation"
   ]
  },
  {
   "cell_type": "code",
   "execution_count": 5,
   "metadata": {},
   "outputs": [
    {
     "name": "stdout",
     "output_type": "stream",
     "text": [
      "(3469, 9)\n"
     ]
    }
   ],
   "source": [
    "# Reformat AQI data\n",
    "pol.reset_index(inplace=True)\n",
    "pol.columns = ['DATE','MAIN_POLLUTANT','AQI','CO','SO2','NO2','OZONE','PM10','PM25']\n",
    "print(pol.shape)"
   ]
  },
  {
   "cell_type": "code",
   "execution_count": 6,
   "metadata": {
    "collapsed": true
   },
   "outputs": [],
   "source": [
    "# Reformat and Filter Weather data\n",
    "wea.reset_index(inplace=True)\n",
    "wea = wea[wea['STATION'] == 'USW00093134']\n",
    "wea['DATE'] = pd.to_datetime(wea['DATE'])"
   ]
  },
  {
   "cell_type": "code",
   "execution_count": 7,
   "metadata": {},
   "outputs": [
    {
     "name": "stdout",
     "output_type": "stream",
     "text": [
      "(2872, 2)\n"
     ]
    }
   ],
   "source": [
    "# Reformat and filter forecast data\n",
    "pfr.reset_index(inplace=True)\n",
    "pfr = pfr[pfr['ForecastPeriod'] == 'Next Day']\n",
    "pfr['DATE'] = pd.to_datetime(pfr['ForecastDate'])\n",
    "pfr = pfr.pivot(index='DATE', columns='Parameter', values='AQI')\n",
    "pfr.reset_index(inplace=True)\n",
    "pfr['AQI_fore'] = pfr[['CO','NO2','OZONE','PM10','PM2.5']].max(axis=1)\n",
    "pfr.drop(['CO','NO2','OZONE','PM10','PM2.5'], axis=1, inplace=True)\n",
    "print(pfr.shape)"
   ]
  },
  {
   "cell_type": "code",
   "execution_count": 8,
   "metadata": {},
   "outputs": [
    {
     "name": "stdout",
     "output_type": "stream",
     "text": [
      "(3469, 66)\n"
     ]
    }
   ],
   "source": [
    "# Join pollution and weather data\n",
    "pw = pd.merge(wea,pol,how='inner',left_on=wea['DATE'],right_on=pol['DATE'])\n",
    "pw[\"DATE\"] = pw['DATE_x']\n",
    "pw.drop(['DATE_x','DATE_y'], axis=1, inplace=True)\n",
    "print(pw.shape)"
   ]
  },
  {
   "cell_type": "code",
   "execution_count": 9,
   "metadata": {},
   "outputs": [
    {
     "name": "stdout",
     "output_type": "stream",
     "text": [
      "(3469, 67)\n"
     ]
    }
   ],
   "source": [
    "# Left join pollution forecast data\n",
    "pw = pd.merge(pw,pfr,how='left', on='DATE')\n",
    "print(pw.shape)"
   ]
  },
  {
   "cell_type": "code",
   "execution_count": null,
   "metadata": {
    "collapsed": true
   },
   "outputs": [],
   "source": []
  }
 ],
 "metadata": {
  "kernelspec": {
   "display_name": "Python 3",
   "language": "python",
   "name": "python3"
  },
  "language_info": {
   "codemirror_mode": {
    "name": "ipython",
    "version": 3
   },
   "file_extension": ".py",
   "mimetype": "text/x-python",
   "name": "python",
   "nbconvert_exporter": "python",
   "pygments_lexer": "ipython3",
   "version": "3.6.1"
  }
 },
 "nbformat": 4,
 "nbformat_minor": 2
}
